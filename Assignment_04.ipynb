{
  "metadata": {
    "language_info": {
      "codemirror_mode": {
        "name": "python",
        "version": 3
      },
      "file_extension": ".py",
      "mimetype": "text/x-python",
      "name": "python",
      "nbconvert_exporter": "python",
      "pygments_lexer": "ipython3",
      "version": "3.8"
    },
    "kernelspec": {
      "name": "python",
      "display_name": "Python (Pyodide)",
      "language": "python"
    }
  },
  "nbformat_minor": 4,
  "nbformat": 4,
  "cells": [
    {
      "cell_type": "code",
      "source": "## Answer 1\n\ndata = [('Sachin Tendulkar', 34357), ('Ricky Ponting', 27483), ('Jack Kallis', 25534), ('Virat Kohli', 24936)]\n\nsorted_data = sorted(data, key=lambda x: x[1])\n\nfor i in sorted_data:\n    print(i)\n",
      "metadata": {
        "trusted": true
      },
      "execution_count": 3,
      "outputs": [
        {
          "name": "stdout",
          "text": "('Virat Kohli', 24936)\n('Jack Kallis', 25534)\n('Ricky Ponting', 27483)\n('Sachin Tendulkar', 34357)\n",
          "output_type": "stream"
        }
      ]
    },
    {
      "cell_type": "code",
      "source": "## Answer 2\nmyList = [1, 2, 3, 4, 5, 6, 7, 8, 9, 10]\nsqared = list(map(lambda x: x**2 , myList))\nprint(sqared)",
      "metadata": {
        "trusted": true
      },
      "execution_count": 11,
      "outputs": [
        {
          "name": "stdout",
          "text": "[1, 4, 9, 16, 25, 36, 49, 64, 81, 100]\n",
          "output_type": "stream"
        }
      ]
    },
    {
      "cell_type": "code",
      "source": "## Answer 3\nmyString =  [1, 2, 3, 4, 5, 6, 7, 8, 9, 10]\n#Expected output: ('1', '2', '3', '4', '5', '6', '7', '8', '9', '10')\nmyTuple = tuple(map(lambda x: str(x), myString))\nprint(myTuple)\n",
      "metadata": {
        "trusted": true
      },
      "execution_count": 15,
      "outputs": [
        {
          "name": "stdout",
          "text": "('1', '2', '3', '4', '5', '6', '7', '8', '9', '10')\n",
          "output_type": "stream"
        }
      ]
    },
    {
      "cell_type": "code",
      "source": "## Answer 4\nfrom functools import reduce\nmyList = range(1,26)\n\nnewProd = reduce(lambda x, y: x*y, myList)\n\nprint(newProd)",
      "metadata": {
        "trusted": true
      },
      "execution_count": 21,
      "outputs": [
        {
          "name": "stdout",
          "text": "15511210043330985984000000\n",
          "output_type": "stream"
        }
      ]
    },
    {
      "cell_type": "code",
      "source": "## Answer 5\nmylist = [2, 3, 6, 9, 27, 60, 90, 120, 55, 46]\n\ndivBy2 = list(sorted(filter(lambda x: x%2==0, mylist)))\ndivBy3 = list(sorted(filter(lambda x: x%3==0, mylist)))\n\nprint('this list is divisible by 2 ', divBy2)\nprint('this list is divisible by 3 ', divBy3)",
      "metadata": {
        "trusted": true
      },
      "execution_count": 30,
      "outputs": [
        {
          "name": "stdout",
          "text": "this list is divisible by 2  [2, 6, 46, 60, 90, 120]\nthis list is divisible by 3  [3, 6, 9, 27, 60, 90, 120]\n",
          "output_type": "stream"
        }
      ]
    },
    {
      "cell_type": "code",
      "source": "## Answer 6\n\nmyList = ['python', 'php', 'aba', 'radar', 'level']\n\npalindromes = list(filter(lambda x: x==x[::-1] , myList ))\n\nprint(palindromes)\n",
      "metadata": {
        "trusted": true
      },
      "execution_count": 34,
      "outputs": [
        {
          "name": "stdout",
          "text": "['php', 'aba', 'radar', 'level']\n",
          "output_type": "stream"
        }
      ]
    },
    {
      "cell_type": "code",
      "source": "",
      "metadata": {},
      "execution_count": null,
      "outputs": []
    }
  ]
}