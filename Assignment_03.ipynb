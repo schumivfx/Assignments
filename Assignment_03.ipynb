{
  "metadata": {
    "language_info": {
      "codemirror_mode": {
        "name": "python",
        "version": 3
      },
      "file_extension": ".py",
      "mimetype": "text/x-python",
      "name": "python",
      "nbconvert_exporter": "python",
      "pygments_lexer": "ipython3",
      "version": "3.8"
    },
    "kernelspec": {
      "name": "python",
      "display_name": "Python (Pyodide)",
      "language": "python"
    }
  },
  "nbformat_minor": 4,
  "nbformat": 4,
  "cells": [
    {
      "cell_type": "code",
      "source": "### Answer1 \n\n#Keyword 'def' is used to create a function. \n\n### for finding any number of odd numbers list, starting from 1 ending till b\ndef odd_numbers(b):\n    \"\"\" this will be used to extract any number of odd numbers within 'b' \"\"\"\n    a =[]\n    b = range(1,b)\n    for num in b:\n        if num % 2 != 0:\n            a.append(num)\n    return a\n\nodd_numbers(25)",
      "metadata": {
        "trusted": true
      },
      "execution_count": 39,
      "outputs": [
        {
          "execution_count": 39,
          "output_type": "execute_result",
          "data": {
            "text/plain": "[1, 3, 5, 7, 9, 11, 13, 15, 17, 19, 21, 23]"
          },
          "metadata": {}
        }
      ]
    },
    {
      "cell_type": "code",
      "source": "### Answer2\n\"\"\" Functions use some special syntax variables to handle arguments given by way of '*args' and '**kwargs'. \n\n'*args' is used to pass a variable of non keyoword argument to function, it can be any number of argumnets,\nthey are treateds as tuple within function. '*args' is just a convention that can be anything. This allows all types of data to be supplied to function\nand output in way of tuple\"\"\"\ndef myArg(*args):\n    return args\n\nmyArg(1,2,3,4,[123,12,3,44],'hey','there')\n\n\"\"\" '**kwargs' is used to pass dictionary's key-value relationship to a function which returns type as dict. 'kwargs' again is just a name given that \nthat can be any other convention \"\"\"\n\ndef myDict(**kwargs):\n    return kwargs \n\nmyDict(Location = 'Bangalore', Country = 'India', Pincode = 560011 )\n",
      "metadata": {
        "trusted": true
      },
      "execution_count": 45,
      "outputs": [
        {
          "execution_count": 45,
          "output_type": "execute_result",
          "data": {
            "text/plain": "{'Location': 'Bangalore', 'Country': 'India', 'Pincode': 560011}"
          },
          "metadata": {}
        }
      ]
    },
    {
      "cell_type": "code",
      "source": "## Answer 3\n\"\"\"An iterator is an object that enables iteration over a collection of elements(iterable), such as a ,list,\ntuple, or dictionary. It provides a way to access the elements of a container one by one, \nallowing sequential processing of the elements.\n\niter(): This method is used to initialize an iterator object from an iterable. \nIt returns an iterator object that can be used to iterate over the elements. example is, strings require to be \nconverted to iterator object by way of iter() .\n\nnext(): This method is used to retrieve the next element from the iterator. \nIt returns the next item in the iterator. When there are no more elements, it raises a StopIteration exception.\n\n\"\"\"\nmy_list = [2, 4, 6, 8, 10, 12, 14, 16, 18, 20]\n\nmy_iterator = iter(my_list)\n\n# Print the first five elements\nfor i in range(5):\n    element = next(my_iterator)\n    print(element)\n",
      "metadata": {
        "trusted": true
      },
      "execution_count": 48,
      "outputs": [
        {
          "name": "stdout",
          "text": "2\n4\n6\n8\n10\n",
          "output_type": "stream"
        }
      ]
    },
    {
      "cell_type": "code",
      "source": "###Answer 4\n\"\"\"   a Generator function is a special type of function that generates a sequence of values\nusing the 'yield' keyword instead of the return keyword.\nIt allows you to define an iterator in a more concise and efficient way for large data sets rather then creating\nbulk data into memory. Generator functions are particularly useful when dealing with large or infinite sequences, \nas they generate values on-the-fly, as needed, rather than generating the entire sequence upfront. \nThey save memory and can improve performance compared to constructing and storing the entire sequence in memory.\n\nThe yield keyword is used in generator functions to pause the execution of the function and yield a value to the \ncaller. When the generator function is called again, it resumes from where it left off and continues execution\nuntil it encounters the next yield statement\n\n\n\"\"\"\n\ndef even_numbers(n):\n    i = 0\n    while i < n:\n        yield i\n        i += 2\neven_gen = even_numbers(10)\nfor num in even_gen:\n    print(num)",
      "metadata": {
        "trusted": true
      },
      "execution_count": 52,
      "outputs": [
        {
          "name": "stdout",
          "text": "0\n2\n4\n6\n8\n",
          "output_type": "stream"
        }
      ]
    },
    {
      "cell_type": "code",
      "source": "### Answer 5\n\ndef myPrimes():\n    first_prime = 2\n    yield first_prime \n    prime_list = [first_prime]\n    num = 3\n                               \n    while num < 1000:\n        is_prime = True  #  temp declaring if number is prime\n\n        # Check if num is divisible by any prime number found so far\n        for prime in prime_list:\n            if num % prime == 0:\n                is_prime = False\n                break\n\n        if is_prime:\n            yield num\n            prime_list.append(num)\n\n        num += 2  # Increment by 2 to consider only odd numbers\n\nprime_gen = myPrimes()\n# Print the first 20 prime numbers\nfor _ in range(20):\n    print(next(prime_gen))\n\n",
      "metadata": {
        "trusted": true
      },
      "execution_count": 56,
      "outputs": [
        {
          "name": "stdout",
          "text": "2\n3\n5\n7\n11\n13\n17\n19\n23\n29\n31\n37\n41\n43\n47\n53\n59\n61\n67\n71\n",
          "output_type": "stream"
        }
      ]
    },
    {
      "cell_type": "code",
      "source": "### Answer 6\ndef fibonacci_gen():\n    a, b = 0, 1\n    count = 0\n    while count < 10:\n        yield a\n        a, b = b, a + b\n        count += 1\nfib_Gen = fibonacci_gen()\nfor num in fib_Gen:\n    print(num)\n\n",
      "metadata": {
        "trusted": true
      },
      "execution_count": 64,
      "outputs": [
        {
          "name": "stdout",
          "text": "0\n1\n1\n2\n3\n5\n8\n13\n21\n34\n",
          "output_type": "stream"
        }
      ]
    },
    {
      "cell_type": "code",
      "source": "### Answer 7\nmyString = 'pwskills'\nmyList = [i for i in myString]\n\nprint(myList)\n",
      "metadata": {
        "trusted": true
      },
      "execution_count": 63,
      "outputs": [
        {
          "name": "stdout",
          "text": "['p', 'w', 's', 'k', 'i', 'l', 'l', 's']\n",
          "output_type": "stream"
        }
      ]
    },
    {
      "cell_type": "code",
      "source": "### Answer 8\ndef is_palindrome(number):\n    original_number = number\n    reversed_number = 0\n    while number > 0:\n        remainder = number % 10\n        reversed_number = (reversed_number * 10) + remainder\n        number //= 10\n    return original_number == reversed_number\n\nprint(is_palindrome(12321))  # True\n",
      "metadata": {
        "trusted": true
      },
      "execution_count": 1,
      "outputs": [
        {
          "name": "stdout",
          "text": "False\n",
          "output_type": "stream"
        }
      ]
    },
    {
      "cell_type": "code",
      "source": "### Answer 9\n\nodd_numbers = [num for num in range(1, 101) if num % 2 != 0]\nprint(odd_numbers)\n",
      "metadata": {
        "trusted": true
      },
      "execution_count": 2,
      "outputs": [
        {
          "name": "stdout",
          "text": "[1, 3, 5, 7, 9, 11, 13, 15, 17, 19, 21, 23, 25, 27, 29, 31, 33, 35, 37, 39, 41, 43, 45, 47, 49, 51, 53, 55, 57, 59, 61, 63, 65, 67, 69, 71, 73, 75, 77, 79, 81, 83, 85, 87, 89, 91, 93, 95, 97, 99]\n",
          "output_type": "stream"
        }
      ]
    },
    {
      "cell_type": "code",
      "source": "",
      "metadata": {},
      "execution_count": null,
      "outputs": []
    }
  ]
}