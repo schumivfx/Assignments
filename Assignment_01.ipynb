{
 "cells": [
  {
   "cell_type": "code",
   "execution_count": null,
   "id": "bb29c056-c047-444e-a262-400c84e83b67",
   "metadata": {},
   "outputs": [],
   "source": [
    "#Answer 1"
   ]
  },
  {
   "cell_type": "code",
   "execution_count": 5,
   "id": "42b99434-7fa6-4093-a96c-52d8a1e475a3",
   "metadata": {},
   "outputs": [
    {
     "name": "stdout",
     "output_type": "stream",
     "text": [
      "dsa\n",
      "<class 'str'>\n"
     ]
    }
   ],
   "source": [
    "#String\n",
    "X = 'dsa'\n",
    "print(X)\n",
    "print(type(X))"
   ]
  },
  {
   "cell_type": "code",
   "execution_count": 6,
   "id": "c09f7b83-39ca-4a5e-a38a-e59afba55525",
   "metadata": {},
   "outputs": [
    {
     "name": "stdout",
     "output_type": "stream",
     "text": [
      "(90,)\n",
      "<class 'tuple'>\n"
     ]
    }
   ],
   "source": [
    "#Tuple\n",
    "X = 90,\n",
    "print (X)\n",
    "print(type(X))"
   ]
  },
  {
   "cell_type": "code",
   "execution_count": 7,
   "id": "5a1761dd-9ef3-45f3-a49c-363575b4af36",
   "metadata": {},
   "outputs": [
    {
     "name": "stdout",
     "output_type": "stream",
     "text": [
      "[1, 2, 3, 4, 5, 'dsa', True, 8.6, -1, 1j]\n",
      "<class 'list'>\n"
     ]
    }
   ],
   "source": [
    "#List\n",
    "X = [1,2,3,4,5,\"dsa\", True, 8.6, -1, 1j ]\n",
    "print (X)\n",
    "print (type(X))"
   ]
  },
  {
   "cell_type": "code",
   "execution_count": 8,
   "id": "3afbfc84-f373-4983-83dd-415cb4b20756",
   "metadata": {},
   "outputs": [
    {
     "name": "stdout",
     "output_type": "stream",
     "text": [
      "<class 'float'>\n"
     ]
    }
   ],
   "source": [
    "#Float\n",
    "X = 1.23\n",
    "print(type(X))"
   ]
  },
  {
   "cell_type": "code",
   "execution_count": null,
   "id": "8366fccd-60b6-48ec-8cfe-6140a8069df8",
   "metadata": {},
   "outputs": [],
   "source": [
    "#Answer 2\n",
    "#(i) var1 = ' ' >> This data type is String\n",
    "#(ii) var2 = '[ DS , ML , Python]' >> This data type is String\n",
    "#(iii) var3 = [ ‘DS’ , ’ML’ , ‘Python’ ]  >> This data type is List\n",
    "#(iv) var4 = 1.  >> This data type is Tuple"
   ]
  },
  {
   "cell_type": "code",
   "execution_count": 34,
   "id": "8659c9f9-5a92-4a7c-8a6d-5c69fb735c3b",
   "metadata": {},
   "outputs": [
    {
     "name": "stdout",
     "output_type": "stream",
     "text": [
      "Result of Division is 2.5\n",
      "Result of Modulus is 1\n",
      "Result of Floor is 2\n",
      "Result of Exponentiation is 25\n"
     ]
    }
   ],
   "source": [
    "#Answer 3\n",
    "\n",
    "\n",
    "x = 5\n",
    "y = 2\n",
    "\n",
    "#(i) / >> Arithmatic Operator, Divides the value on the left by the one on the right. \n",
    "#Notice that division results in a floating-point value.\n",
    "print('Result of Division is', x/y)\n",
    "\n",
    "\n",
    "#(ii) % >> Arithmatic Operator.Modulus Divides and returns the value of the remainder.\n",
    "print ('Result of Modulus is', x%y)\n",
    "\n",
    "#(iii) // >> Arithmatic Operator, Floor Divides and returns the integer value of the quotient. \n",
    "#It ignores the digits after the decimal.\n",
    "print ('Result of Floor is', x//y)\n",
    "\n",
    "\n",
    "#(iv) **  >> Arithmatic Operator, Exponentiation Raises the first number to the power of the second.\n",
    "print ('Result of Exponentiation is', x**y)\n"
   ]
  },
  {
   "cell_type": "code",
   "execution_count": 41,
   "id": "786678f3-5dd0-47dd-931b-146dab96274d",
   "metadata": {},
   "outputs": [
    {
     "name": "stdout",
     "output_type": "stream",
     "text": [
      "1 <class 'int'>\n",
      "[3, 4, 5] <class 'list'>\n",
      "(2, 4) <class 'tuple'>\n",
      "True <class 'bool'>\n",
      "DSA <class 'str'>\n",
      "1.3 <class 'float'>\n",
      "(1+3j) <class 'complex'>\n",
      "b'bytes' <class 'bytes'>\n",
      "None <class 'NoneType'>\n",
      "{'name': 'DSA', 'time': 7} <class 'dict'>\n"
     ]
    }
   ],
   "source": [
    "# Answer 4\n",
    "\n",
    "myList = [ 1, [3,4,5] , (2,4) , True , 'DSA' , 1.3 , 1+3j, b\"bytes\", None, {'name':'DSA', 'time': 7}]\n",
    "for i in myList:\n",
    "    print(i, type(i))"
   ]
  },
  {
   "cell_type": "code",
   "execution_count": 6,
   "id": "c5045980-51aa-4421-8455-eb1a0da0b7d6",
   "metadata": {},
   "outputs": [
    {
     "name": "stdin",
     "output_type": "stream",
     "text": [
      "enter 44\n",
      "enter 4\n"
     ]
    },
    {
     "name": "stdout",
     "output_type": "stream",
     "text": [
      "A is divisible by B = 11\n",
      "A can be divided by B  1 times.\n"
     ]
    }
   ],
   "source": [
    "#Answer 5\n",
    "A = int(input(\"enter\"))\n",
    "B = int(input(\"enter\"))\n",
    "count = 0\n",
    "\n",
    "while A % B == 0:\n",
    "    A= A // B\n",
    "    count += 1\n",
    "\n",
    "if count > 0:\n",
    "    print(\"A is divisible by B =\", A)\n",
    "    print(\"A can be divided by B \", count, \"times.\")\n",
    "else:\n",
    "    print(\"A is not divisible by B.\")"
   ]
  },
  {
   "cell_type": "code",
   "execution_count": 12,
   "id": "5ed66057-d566-42c3-ab9c-81389a8b5dda",
   "metadata": {},
   "outputs": [
    {
     "name": "stdout",
     "output_type": "stream",
     "text": [
      "2 is not divisible by 3\n",
      "33 is divisible by 3\n",
      "3 is divisible by 3\n",
      "45 is divisible by 3\n",
      "56 is not divisible by 3\n",
      "55 is not divisible by 3\n",
      "60 is divisible by 3\n",
      "90 is divisible by 3\n",
      "47 is not divisible by 3\n",
      "48 is divisible by 3\n",
      "25 is not divisible by 3\n",
      "15 is divisible by 3\n",
      "27 is divisible by 3\n",
      "29 is not divisible by 3\n",
      "32 is not divisible by 3\n",
      "42 is divisible by 3\n",
      "59 is not divisible by 3\n",
      "63 is divisible by 3\n",
      "65 is not divisible by 3\n",
      "79 is not divisible by 3\n",
      "73 is not divisible by 3\n",
      "72 is divisible by 3\n",
      "44 is not divisible by 3\n",
      "66 is divisible by 3\n",
      "78 is divisible by 3\n"
     ]
    }
   ],
   "source": [
    "#Answer 6\n",
    "\n",
    "myList = [2,33,3,45,56,55,60,90,47,48,25,15,27,29,32,42,59,63,65,79,73,72,44,66,78]\n",
    "divisor = 3\n",
    "\n",
    "for i in myList:\n",
    "    if i%divisor == 0:\n",
    "        print(i ,\"is divisible by\", divisor)\n",
    "    else:\n",
    "        print(i ,'is not divisible by', divisor)\n"
   ]
  },
  {
   "cell_type": "code",
   "execution_count": 21,
   "id": "94354b44-645a-4c0f-bef8-d0403a659b94",
   "metadata": {},
   "outputs": [
    {
     "name": "stdout",
     "output_type": "stream",
     "text": [
      "[1, 2, 3, 4, 5] {2, 3, 4, 6} {'name': 'dsa', 'time': 7, 'duration': 'months'}\n",
      "5 dsanew DSA\n"
     ]
    }
   ],
   "source": [
    "# Answer 7\n",
    "### Mutable data type are the ones which cam be modified after thier creation. List,Dictionaries,Sets are\n",
    "#few data types which can be modified/appended even after creation.\n",
    "myList = [1,2,3,4]\n",
    "mySet = {2,3,4}\n",
    "myDict = {\"name\":\"dsa\",\"time\":7}\n",
    "\n",
    "myList.append(5)\n",
    "mySet.add(6)\n",
    "myDict[\"duration\"]= \"months\"\n",
    "print(myList, mySet, myDict)\n",
    "\n",
    "\n",
    "### Immutabel data types are the ones which cannot be modified after there creation. Any modification will \n",
    "## will result in creation new object with updated value. Numbers, Strings, Tuples, Frozensets are\n",
    "# few examples of immutable data types.\n",
    "myInt = 3\n",
    "myName = 'dsa'\n",
    "myTuple = 2,\n",
    "\n",
    "# myInt.apend(2) #AttributeError: 'int' object has no attribute 'apend'\n",
    "\n",
    "newInt = myInt + 2\n",
    "newName = myName + 'new DSA'\n",
    "print(newInt, newName)\n"
   ]
  },
  {
   "cell_type": "code",
   "execution_count": null,
   "id": "a2ababb0-676f-4178-ae34-6d65e9443826",
   "metadata": {},
   "outputs": [],
   "source": []
  }
 ],
 "metadata": {
  "kernelspec": {
   "display_name": "Python 3 (ipykernel)",
   "language": "python",
   "name": "python3"
  },
  "language_info": {
   "codemirror_mode": {
    "name": "ipython",
    "version": 3
   },
   "file_extension": ".py",
   "mimetype": "text/x-python",
   "name": "python",
   "nbconvert_exporter": "python",
   "pygments_lexer": "ipython3",
   "version": "3.10.8"
  }
 },
 "nbformat": 4,
 "nbformat_minor": 5
}
